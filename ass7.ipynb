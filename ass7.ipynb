{
 "cells": [
  {
   "cell_type": "code",
   "execution_count": 4,
   "id": "a0195066-73f1-4ce0-86ae-459f40c1336b",
   "metadata": {},
   "outputs": [
    {
     "name": "stdout",
     "output_type": "stream",
     "text": [
      "8\n"
     ]
    }
   ],
   "source": [
    "1. #What is the purpose of len() function in python,and how can it be used with strings?\n",
    "\n",
    "#The len() function is used to returns an integer value which indicates the number of items in an object.It is built in function. When the object is a string,the len() function returns the number of characters in a string.\n",
    "\n",
    "a = \"Pwskills\"\n",
    "str = len(a)\n",
    "print(str)"
   ]
  },
  {
   "cell_type": "code",
   "execution_count": 7,
   "id": "9bc41af6-afad-4e74-ad96-71587d52820e",
   "metadata": {},
   "outputs": [],
   "source": [
    "2. #How can you concatenate two or more strings in python and can you provide an example of string concatination?\n",
    "\n",
    "#The way to concatenate string in python is by using the + operator.\n",
    "#Syntax : str3 = str1+str2.\n",
    "\n",
    "#Example:\n",
    "str1 = \"Welcome\"\n",
    "str2 = \"Pravya\"\n",
    "str3 = str1 + str2"
   ]
  },
  {
   "cell_type": "code",
   "execution_count": 8,
   "id": "44149ce4-a15c-4b04-a646-499112c536a0",
   "metadata": {},
   "outputs": [
    {
     "name": "stdout",
     "output_type": "stream",
     "text": [
      "WelcomePravya\n"
     ]
    }
   ],
   "source": [
    "print(str3)"
   ]
  },
  {
   "cell_type": "code",
   "execution_count": 10,
   "id": "212a0ab1-9a33-4d9d-9b27-e6647e07f535",
   "metadata": {},
   "outputs": [
    {
     "name": "stdout",
     "output_type": "stream",
     "text": [
      "('Sonia', 'Manik', 'Pravya', 'Shourya', 'Hardik')\n"
     ]
    }
   ],
   "source": [
    "3.#What is the string slicing in python, and how can you extract a portion of a string using this method?\n",
    "\n",
    "# String slicing is a technique in python that allows extracting substrings,which is handy,when working with long string.\n",
    "#It allows you to extract a portion of a string by specifying a start and end index. format[satrt:end].Start is the index where slicing begin(inclusive)and end is the index where it ends(exclusive).\n",
    "\n",
    "name = (\"Sonia\", \"Manik\", \"Pravya\", \"Shourya\", \"Hardik\")\n",
    "print(name)\n"
   ]
  },
  {
   "cell_type": "code",
   "execution_count": 11,
   "id": "0bc53d9e-8b97-4bd5-bcf5-de0d4b565848",
   "metadata": {},
   "outputs": [
    {
     "data": {
      "text/plain": [
       "('Sonia', 'Manik', 'Pravya')"
      ]
     },
     "execution_count": 11,
     "metadata": {},
     "output_type": "execute_result"
    }
   ],
   "source": [
    "name[0:3]"
   ]
  },
  {
   "cell_type": "code",
   "execution_count": 12,
   "id": "fa5f94f5-cdd6-40b6-bd9d-2b4d99a908f5",
   "metadata": {},
   "outputs": [
    {
     "data": {
      "text/plain": [
       "('Pravya', 'Shourya', 'Hardik')"
      ]
     },
     "execution_count": 12,
     "metadata": {},
     "output_type": "execute_result"
    }
   ],
   "source": [
    "name[2:5]"
   ]
  },
  {
   "cell_type": "code",
   "execution_count": 15,
   "id": "2b9bbd10-3ae0-4b6d-bca3-c8f6f8229f1b",
   "metadata": {},
   "outputs": [
    {
     "data": {
      "text/plain": [
       "'Hello world'"
      ]
     },
     "execution_count": 15,
     "metadata": {},
     "output_type": "execute_result"
    }
   ],
   "source": [
    "4. #How can you change the case of a string in python, and can you provide an example of both making a string all uppercase and all lowercase?\n",
    "\n",
    "#upper() method on a string converts all of the characters to uppercase.\n",
    "#lower() method on a string converts all of the characters to lowercase.both are built in method.\n",
    "\n",
    "#example:\n",
    "str = \"Hello world\"\n",
    "str"
   ]
  },
  {
   "cell_type": "code",
   "execution_count": 16,
   "id": "034454eb-41f7-4ee3-9e0f-7024f528f871",
   "metadata": {},
   "outputs": [
    {
     "data": {
      "text/plain": [
       "'HELLO WORLD'"
      ]
     },
     "execution_count": 16,
     "metadata": {},
     "output_type": "execute_result"
    }
   ],
   "source": [
    "str.upper()"
   ]
  },
  {
   "cell_type": "code",
   "execution_count": 17,
   "id": "a2432fc4-cd90-4dbe-a0e6-d130b0c69219",
   "metadata": {},
   "outputs": [
    {
     "data": {
      "text/plain": [
       "'hello world'"
      ]
     },
     "execution_count": 17,
     "metadata": {},
     "output_type": "execute_result"
    }
   ],
   "source": [
    "str.lower()"
   ]
  },
  {
   "cell_type": "code",
   "execution_count": 18,
   "id": "f08df8d3-1584-42e1-9d82-63434cf75b81",
   "metadata": {},
   "outputs": [
    {
     "data": {
      "text/plain": [
       "'Hello World'"
      ]
     },
     "execution_count": 18,
     "metadata": {},
     "output_type": "execute_result"
    }
   ],
   "source": [
    "str.title()"
   ]
  },
  {
   "cell_type": "code",
   "execution_count": 19,
   "id": "d6c88d50-c7f5-4b7d-90a8-e542367ea204",
   "metadata": {},
   "outputs": [
    {
     "data": {
      "text/plain": [
       "'i AM A tEACHER'"
      ]
     },
     "execution_count": 19,
     "metadata": {},
     "output_type": "execute_result"
    }
   ],
   "source": [
    "str2 = \"I am a Teacher\"\n",
    "str2.swapcase()"
   ]
  },
  {
   "cell_type": "code",
   "execution_count": 20,
   "id": "56ff26ab-331f-4c43-8941-cae4d912935c",
   "metadata": {},
   "outputs": [
    {
     "data": {
      "text/plain": [
       "'I am a teacher'"
      ]
     },
     "execution_count": 20,
     "metadata": {},
     "output_type": "execute_result"
    }
   ],
   "source": [
    "str2.capitalize()"
   ]
  },
  {
   "cell_type": "code",
   "execution_count": 21,
   "id": "0bf9d379-ff76-42de-802d-53d3369a64db",
   "metadata": {},
   "outputs": [
    {
     "data": {
      "text/plain": [
       "'Preeti, doctor, mc colony'"
      ]
     },
     "execution_count": 21,
     "metadata": {},
     "output_type": "execute_result"
    }
   ],
   "source": [
    "5. #What does the split() method do in python, and how can you split a string using a specific delimiter?\n",
    "\n",
    "# This method splits a string into substring based on a delimiter and return a list of these substrings.\n",
    "\n",
    "data = \"Preeti, doctor, mc colony\"\n",
    "data"
   ]
  },
  {
   "cell_type": "code",
   "execution_count": 22,
   "id": "3b60d908-20f0-4af1-b466-cb90552c3a47",
   "metadata": {},
   "outputs": [],
   "source": [
    "doctor_info = data.split(',')"
   ]
  },
  {
   "cell_type": "code",
   "execution_count": 23,
   "id": "47aaf046-1f9f-4d0c-b778-c4af5a8eb364",
   "metadata": {},
   "outputs": [
    {
     "data": {
      "text/plain": [
       "['Preeti', ' doctor', ' mc colony']"
      ]
     },
     "execution_count": 23,
     "metadata": {},
     "output_type": "execute_result"
    }
   ],
   "source": [
    "doctor_info"
   ]
  },
  {
   "cell_type": "code",
   "execution_count": 24,
   "id": "6857d55c-2f6f-4fd4-b68a-177fbd72c282",
   "metadata": {},
   "outputs": [],
   "source": [
    "name = doctor_info[0]\n",
    "des = doctor_info[1]\n",
    "address = doctor_info[2]"
   ]
  },
  {
   "cell_type": "code",
   "execution_count": 25,
   "id": "1165af62-1e6a-475e-8fcb-fdec08203455",
   "metadata": {},
   "outputs": [
    {
     "data": {
      "text/plain": [
       "'Preeti'"
      ]
     },
     "execution_count": 25,
     "metadata": {},
     "output_type": "execute_result"
    }
   ],
   "source": [
    "name"
   ]
  },
  {
   "cell_type": "code",
   "execution_count": 28,
   "id": "e37f696d-ac5d-40ae-ac79-8feb0d8723e5",
   "metadata": {},
   "outputs": [
    {
     "data": {
      "text/plain": [
       "'doctor'"
      ]
     },
     "execution_count": 28,
     "metadata": {},
     "output_type": "execute_result"
    }
   ],
   "source": [
    "des.strip()"
   ]
  },
  {
   "cell_type": "code",
   "execution_count": 27,
   "id": "c9c90330-a1aa-469a-9a97-6d4248995196",
   "metadata": {},
   "outputs": [
    {
     "data": {
      "text/plain": [
       "' mc colony'"
      ]
     },
     "execution_count": 27,
     "metadata": {},
     "output_type": "execute_result"
    }
   ],
   "source": [
    "address"
   ]
  },
  {
   "cell_type": "code",
   "execution_count": null,
   "id": "1bc1e6d6-6505-40e4-93e4-e4dd44e6cb79",
   "metadata": {},
   "outputs": [],
   "source": []
  }
 ],
 "metadata": {
  "kernelspec": {
   "display_name": "Python 3 (ipykernel)",
   "language": "python",
   "name": "python3"
  },
  "language_info": {
   "codemirror_mode": {
    "name": "ipython",
    "version": 3
   },
   "file_extension": ".py",
   "mimetype": "text/x-python",
   "name": "python",
   "nbconvert_exporter": "python",
   "pygments_lexer": "ipython3",
   "version": "3.10.8"
  }
 },
 "nbformat": 4,
 "nbformat_minor": 5
}
